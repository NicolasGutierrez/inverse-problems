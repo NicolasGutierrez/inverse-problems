{
 "cells": [
  {
   "cell_type": "markdown",
   "metadata": {},
   "source": [
    "# Logistic growth"
   ]
  },
  {
   "cell_type": "markdown",
   "metadata": {},
   "source": [
    "In this document, four parameter estimation techniques are presented (efforts will be made to compare them), applied on a simple **logistic growth model** for one population. First, we will do a _linear regression_ on the parameters. Next, we do a so-called _nonlinear least squares regression_. The resting techniques will follow the treatment in Ramsay and Hooker (2017). They are referred to as _gradient matching_ and _parameter cascading_\n",
    "\n",
    "First of all, we define some necessary functions."
   ]
  },
  {
   "cell_type": "code",
   "execution_count": 14,
   "metadata": {},
   "outputs": [],
   "source": [
    "import numpy as np\n",
    "import matplotlib.pyplot as plt\n",
    "from scipy import linalg\n",
    "from scipy import integrate\n",
    "from scipy import optimize\n",
    "from scipy import interpolate\n",
    "\n",
    "def log_equation(t, x, *args):\n",
    "    \"\"\"\n",
    "    Returns the logistic growth differential equation for one populations.\n",
    "    Should receive two parameters: (r, a)\n",
    "    \"\"\"\n",
    "    r = args[0]\n",
    "    a = args[1]\n",
    "    return x * (r + a*x)\n",
    "\n",
    "def add_noise(data, sigma):\n",
    "    \"\"\"\n",
    "    Adds Gaussian noise with mean 0 and standard deviation sigma\n",
    "    to each entry of the given data\n",
    "    \"\"\"\n",
    "    return data + np.random.normal(scale=sigma, size=np.shape(data))\n",
    "\n",
    "def clean_data(data, eps):\n",
    "    \"\"\"\n",
    "    Reduces to zero the entries of data with value < eps\n",
    "    \"\"\"\n",
    "    data[data < eps] = 0\n",
    "    return data"
   ]
  },
  {
   "cell_type": "markdown",
   "metadata": {},
   "source": [
    "## Data generation with given parameters"
   ]
  },
  {
   "cell_type": "code",
   "execution_count": 15,
   "metadata": {},
   "outputs": [],
   "source": [
    "# ODE parameters\n",
    "r = 0.33    # Rate of growth\n",
    "a = -0.002    # \n",
    "params = (r, a)\n",
    "\n",
    "# Additional conditions\n",
    "x0 = np.array([0.5])     # Initial population\n",
    "t0 = 0                   # Time evaluation starting point\n",
    "tf = 40                  # Time evaluation finishing point\n",
    "\n",
    "# Time points to be displayed\n",
    "num_tpoints = 15\n",
    "t_points = np.linspace(t0, tf, num_tpoints)"
   ]
  },
  {
   "cell_type": "code",
   "execution_count": 16,
   "metadata": {},
   "outputs": [],
   "source": [
    "sigma = num_tpoints**-0.5    # Standard deviation of noise\n",
    "eps = 1E-4                   # Data below this value will be set to zero\n",
    "\n",
    "sol_log = sp.integrate.solve_ivp(log_equation, (t0,tf), x0, args=params, t_eval=t_points)\n",
    "data_log = add_noise(sol_log.y, sigma)\n",
    "data_log = clean_data(data_log, eps)"
   ]
  },
  {
   "cell_type": "code",
   "execution_count": null,
   "metadata": {},
   "outputs": [],
   "source": [
    "fig, (ax0, ax1) = plt.subplots(1, 2, figsize=(12,5))\n",
    "ax0.plot(t_points, sol_log.y[0], '-r', label='true x0')\n",
    "ax0.set_title('Generated data')\n",
    "ax0.set_ylabel('population')\n",
    "ax0.set_xlabel('time')\n",
    "ax0.legend(loc='best')\n",
    "ax0.grid()\n",
    "ax1.plot(t_points, data_log[0], 'm*', label='exp x0')\n",
    "ax1.set_title('Experimental data')\n",
    "ax1.set_xlabel('time')\n",
    "ax1.legend(loc='best')\n",
    "ax1.grid()\n",
    "plt.show()\n",
    "\n",
    "\"\"\"\n",
    "def plot_solution(t_points, sol):\n",
    "    plt.plot(t_points, sol_log.y[0], '-r', label='x0')\n",
    "    plt.grid()\n",
    "    plt.legend(loc='best')\n",
    "    plt.ylabel('population')\n",
    "    plt.xlabel('time')\n",
    "    plt.show()\n",
    "\"\"\""
   ]
  },
  {
   "cell_type": "markdown",
   "metadata": {},
   "source": [
    "## Parameter estimation"
   ]
  },
  {
   "cell_type": "markdown",
   "metadata": {},
   "source": [
    "### Linear least squares"
   ]
  },
  {
   "cell_type": "code",
   "execution_count": 106,
   "metadata": {},
   "outputs": [
    {
     "name": "stdout",
     "output_type": "stream",
     "text": [
      "(0.31530324451957004, -0.001965881454793833)\n"
     ]
    },
    {
     "data": {
      "image/png": "[encoded data removed]",
      "text/plain": [
       "<Figure size 432x288 with 1 Axes>"
      ]
     },
     "metadata": {},
     "output_type": "display_data"
    }
   ],
   "source": [
    "b = np.zeros(num_tpoints)\n",
    "A = np.zeros((num_tpoints,2))\n",
    "for i in range(num_tpoints-1):\n",
    "    b[i] = np.log(data_log[0,i+1]/data_log[0,i])/(t_points[i+1]-t_points[i])\n",
    "    A[i] = [1, data_log[0,i]]\n",
    "    \n",
    "reg = optimize.lsq_linear(A, b, lsq_solver='lsmr')\n",
    "fitted_params = tuple(reg.x)\n",
    "\n",
    "fitted_data = integrate.solve_ivp(log_equation, (t0,tf), x0, args=fitted_params, t_eval=t_points)\n",
    "fitted_data = fitted_data.y.flatten()\n",
    "\n",
    "print(fitted_params)\n",
    "plt.plot(t_points, fitted_data, 'r-', label='Fitted Parameters')\n",
    "plt.plot(t_points, data_log[0], 'g*', label='Data')\n",
    "plt.legend(loc='best')\n",
    "plt.xlabel('Time')\n",
    "plt.ylabel('Population')\n",
    "plt.show()"
   ]
  },
  {
   "cell_type": "markdown",
   "metadata": {},
   "source": [
    "### Trajectory matching"
   ]
  },
  {
   "cell_type": "code",
   "execution_count": 107,
   "metadata": {},
   "outputs": [
    {
     "data": {
      "image/png": "[encoded data removed]",
      "text/plain": [
       "<Figure size 432x288 with 1 Axes>"
      ]
     },
     "metadata": {},
     "output_type": "display_data"
    }
   ],
   "source": [
    "def log_residuals(params):\n",
    "    sim_data = integrate.solve_ivp(log_equation, (t0,tf), x0, args=params, t_eval=t_points)\n",
    "    return sim_data.y[0] - data_log[0]\n",
    "\n",
    "initial_params = (1, -0.01)\n",
    "fitted_params = optimize.least_squares(log_residuals, initial_params, method='lm')\n",
    "\n",
    "initial_guess = integrate.solve_ivp(log_equation, (t0,tf), x0, args=initial_params, t_eval=t_points)\n",
    "fitted_data = integrate.solve_ivp(log_equation, (t0,tf), x0, args=fitted_params.x, t_eval=t_points)\n",
    "\n",
    "plt.plot(t_points, initial_guess.y[0], 'b-', label='Initial Guess')\n",
    "plt.plot(t_points, fitted_data.y[0], 'r-', label='Fitted Parameters')\n",
    "plt.plot(t_points, data_log[0], 'g*', label='Data')\n",
    "plt.legend(loc='best')\n",
    "plt.xlabel('Time')\n",
    "plt.ylabel('Population')\n",
    "plt.show()"
   ]
  },
  {
   "cell_type": "markdown",
   "metadata": {},
   "source": [
    "### Gradient matching"
   ]
  },
  {
   "cell_type": "code",
   "execution_count": 108,
   "metadata": {},
   "outputs": [
    {
     "data": {
      "image/png": "[encoded data removed]",
      "text/plain": [
       "<Figure size 432x288 with 1 Axes>"
      ]
     },
     "metadata": {},
     "output_type": "display_data"
    }
   ],
   "source": [
    "cs0 = interpolate.CubicSpline(t_points, data_log[0])\n",
    "tnew = np.linspace(t0, tf, 500)\n",
    "\n",
    "plt.plot(tnew,cs0(tnew), 'r-', label='interpolated x0')\n",
    "plt.plot(t_points, data_log[0], 'g*', label='x0')\n",
    "plt.show()"
   ]
  },
  {
   "cell_type": "markdown",
   "metadata": {},
   "source": [
    "### Parameter cascading"
   ]
  },
  {
   "cell_type": "code",
   "execution_count": null,
   "metadata": {},
   "outputs": [],
   "source": []
  }
 ],
 "metadata": {
  "kernelspec": {
   "display_name": "Python 3",
   "language": "python",
   "name": "python3"
  },
  "language_info": {
   "codemirror_mode": {
    "name": "ipython",
    "version": 3
   },
   "file_extension": ".py",
   "mimetype": "text/x-python",
   "name": "python",
   "nbconvert_exporter": "python",
   "pygments_lexer": "ipython3",
   "version": "3.7.6"
  }
 },
 "nbformat": 4,
 "nbformat_minor": 4
}
