{
 "cells": [
  {
   "cell_type": "markdown",
   "metadata": {},
   "source": [
    "# Lotka-volterra model, 2 populations\n",
    "\n"
   ]
  },
  {
   "cell_type": "code",
   "execution_count": 37,
   "metadata": {},
   "outputs": [],
   "source": [
    "import numpy as np\n",
    "import matplotlib.pyplot as plt\n",
    "from scipy import integrate\n",
    "from scipy import linalg\n",
    "\n",
    "# Definition of variables\n",
    "nesp = 2\n",
    "rmax = 100\n",
    "bmax = 0.1\n",
    "\n",
    "r = rmax * np.random.rand(nesp)                  #\n",
    "b = 2*bmax * np.random.rand(nesp,nesp) - bmax    #\n",
    "t0 = 0      # Time evaluation starting point\n",
    "tf = 100    # Time evaluation finishing point\n",
    "x0 = 19 * np.random.rand(nesp) +1\n",
    "\n",
    "# Generate time evaluation points to show\n",
    "t_points = np.linspace(t0, tf)\n",
    "\n",
    "# Equation to solve\n",
    "def lvequation(t, x):\n",
    "    return x * (r + b @ x)\n",
    "\n",
    "# Solution of equation\n",
    "sol = integrate.solve_ivp(lvequation, (0,tf), x0, t_eval = t_points)\n",
    "\n",
    "#plt.plot(sol.t, sol.y)\n",
    "#plt.axis([0,(nmax-nmin),0,1])\n",
    "#plt.show()"
   ]
  },
  {
   "cell_type": "code",
   "execution_count": null,
   "metadata": {},
   "outputs": [],
   "source": []
  },
  {
   "cell_type": "code",
   "execution_count": 35,
   "metadata": {},
   "outputs": [
    {
     "data": {
      "text/plain": [
       "array([0.])"
      ]
     },
     "execution_count": 35,
     "metadata": {},
     "output_type": "execute_result"
    }
   ],
   "source": [
    "sol.t"
   ]
  },
  {
   "cell_type": "code",
   "execution_count": 36,
   "metadata": {},
   "outputs": [
    {
     "data": {
      "text/plain": [
       "array([[ 3.65644592],\n",
       "       [17.08388908]])"
      ]
     },
     "execution_count": 36,
     "metadata": {},
     "output_type": "execute_result"
    }
   ],
   "source": [
    "sol.y"
   ]
  },
  {
   "cell_type": "code",
   "execution_count": null,
   "metadata": {},
   "outputs": [],
   "source": []
  }
 ],
 "metadata": {
  "kernelspec": {
   "display_name": "Python 3",
   "language": "python",
   "name": "python3"
  },
  "language_info": {
   "codemirror_mode": {
    "name": "ipython",
    "version": 3
   },
   "file_extension": ".py",
   "mimetype": "text/x-python",
   "name": "python",
   "nbconvert_exporter": "python",
   "pygments_lexer": "ipython3",
   "version": "3.6.5"
  }
 },
 "nbformat": 4,
 "nbformat_minor": 2
}
