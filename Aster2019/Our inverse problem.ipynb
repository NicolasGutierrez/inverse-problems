{
 "cells": [
  {
   "cell_type": "markdown",
   "metadata": {},
   "source": [
    "# Singular value decomposition (SVD)"
   ]
  },
  {
   "cell_type": "markdown",
   "metadata": {},
   "source": [
    "## ¿De qué nos sirve hacer SVD?"
   ]
  },
  {
   "cell_type": "markdown",
   "metadata": {},
   "source": []
  },
  {
   "cell_type": "markdown",
   "metadata": {},
   "source": [
    "## Entrenando un poco la intuición"
   ]
  },
  {
   "cell_type": "code",
   "execution_count": 2,
   "metadata": {},
   "outputs": [],
   "source": [
    "import numpy as np\n",
    "import matplotlib.pyplot as plt\n",
    "from scipy import linalg"
   ]
  },
  {
   "cell_type": "markdown",
   "metadata": {},
   "source": [
    "Let $m$ denote the vector of model parameters, and $d$ denote the data vector. $m \\in \\mathbb{R}^n, d \\in \\mathbb{R}^m$. Then the forward problem can be expressed using a linear system of equations.\n",
    "\n",
    "Suppose $G m = d$. Let $G^\\star$ denote the Moore-Penrose pseudoinverse of $G$, i.e. if the singular value decomposition of $G$ is $ G = U S V^T$, then the pseudoinverse is $G^\\star = V S^{-1} U^T d$\n",
    "\n",
    "We then define the pseudoinverse solution to be $m_\\star = G^\\star d$."
   ]
  },
  {
   "cell_type": "code",
   "execution_count": 14,
   "metadata": {},
   "outputs": [],
   "source": [
    "G1 = 10 * np.random.rand(3,3)\n",
    "G2 = 10 * np.random.rand(3,2)\n",
    "[U1, svalues1, V1] = linalg.svd(G1)\n",
    "[U2, svalues2, V2] = linalg.svd(G2)"
   ]
  },
  {
   "cell_type": "markdown",
   "metadata": {},
   "source": [
    "In order to compute the pseudoinverse, we need to know the rank of each matrix $G$."
   ]
  },
  {
   "cell_type": "code",
   "execution_count": 15,
   "metadata": {},
   "outputs": [],
   "source": [
    "rank1 = np.linalg.matrix_rank(G1)\n",
    "rank2 = np.linalg.matrix_rank(G2)"
   ]
  },
  {
   "cell_type": "markdown",
   "metadata": {},
   "source": [
    "Next, we show the shapes of the different outputs given by scipy.linalg.svd():"
   ]
  },
  {
   "cell_type": "code",
   "execution_count": 16,
   "metadata": {},
   "outputs": [
    {
     "data": {
      "text/plain": [
       "(array([[-0.66504318,  0.68957672,  0.28670807],\n",
       "        [-0.66810885, -0.37782984, -0.64099546],\n",
       "        [-0.33368869, -0.61784186,  0.71198546]]),\n",
       " array([[-0.78329328,  0.5123044 , -0.35213043],\n",
       "        [-0.57850328, -0.80806186,  0.11122041],\n",
       "        [-0.22756446,  0.29082681,  0.9293192 ]]))"
      ]
     },
     "execution_count": 16,
     "metadata": {},
     "output_type": "execute_result"
    }
   ],
   "source": [
    "U1, U2"
   ]
  },
  {
   "cell_type": "code",
   "execution_count": 17,
   "metadata": {},
   "outputs": [
    {
     "data": {
      "text/plain": [
       "(array([14.6367014 ,  7.27646391,  2.01286296]),\n",
       " array([10.41304369,  6.73082928]))"
      ]
     },
     "execution_count": 17,
     "metadata": {},
     "output_type": "execute_result"
    }
   ],
   "source": [
    "svalues1, svalues2"
   ]
  },
  {
   "cell_type": "code",
   "execution_count": 18,
   "metadata": {},
   "outputs": [
    {
     "data": {
      "text/plain": [
       "(array([[-0.74159123, -0.55866138, -0.37140263],\n",
       "        [ 0.56154285, -0.81983985,  0.11194754],\n",
       "        [-0.36703144, -0.12553918,  0.92169834]]),\n",
       " array([[-0.68318295, -0.73024726],\n",
       "        [ 0.73024726, -0.68318295]]))"
      ]
     },
     "execution_count": 18,
     "metadata": {},
     "output_type": "execute_result"
    }
   ],
   "source": [
    "V1, V2"
   ]
  },
  {
   "cell_type": "markdown",
   "metadata": {},
   "source": [
    "Do we get G1 when multiplying $U_1 S_1 V_1$?"
   ]
  },
  {
   "cell_type": "code",
   "execution_count": 19,
   "metadata": {},
   "outputs": [
    {
     "data": {
      "text/plain": [
       "array([[9.82450456, 1.25188808, 4.70888023],\n",
       "       [6.18168061, 7.87903151, 2.13493089],\n",
       "       [0.57147308, 6.2344024 , 2.631598  ]])"
      ]
     },
     "execution_count": 19,
     "metadata": {},
     "output_type": "execute_result"
    }
   ],
   "source": [
    "U1 @ np.diag(svalues1) @ V1"
   ]
  },
  {
   "cell_type": "code",
   "execution_count": 20,
   "metadata": {},
   "outputs": [
    {
     "data": {
      "text/plain": [
       "array([[9.82450456, 1.25188808, 4.70888023],\n",
       "       [6.18168061, 7.87903151, 2.13493089],\n",
       "       [0.57147308, 6.2344024 , 2.631598  ]])"
      ]
     },
     "execution_count": 20,
     "metadata": {},
     "output_type": "execute_result"
    }
   ],
   "source": [
    "G1"
   ]
  },
  {
   "cell_type": "markdown",
   "metadata": {},
   "source": [
    "Do we compute the same generalized inverse as the one using np.pinv?"
   ]
  },
  {
   "cell_type": "code",
   "execution_count": 21,
   "metadata": {},
   "outputs": [
    {
     "data": {
      "text/plain": [
       "array([[ 0.0346326 ,  0.12157373, -0.16059909],\n",
       "       [-0.07019249,  0.10804876,  0.03794326],\n",
       "       [ 0.15876918, -0.28237427,  0.32498296]])"
      ]
     },
     "execution_count": 21,
     "metadata": {},
     "output_type": "execute_result"
    }
   ],
   "source": [
    "np.transpose(V1) @ linalg.inv(np.diag(svalues1)) @ np.transpose(U1)"
   ]
  },
  {
   "cell_type": "code",
   "execution_count": 22,
   "metadata": {},
   "outputs": [
    {
     "data": {
      "text/plain": [
       "array([[ 0.0346326 ,  0.12157373, -0.16059909],\n",
       "       [-0.07019249,  0.10804876,  0.03794326],\n",
       "       [ 0.15876918, -0.28237427,  0.32498296]])"
      ]
     },
     "execution_count": 22,
     "metadata": {},
     "output_type": "execute_result"
    }
   ],
   "source": [
    "linalg.pinv(G1)"
   ]
  },
  {
   "cell_type": "code",
   "execution_count": 23,
   "metadata": {},
   "outputs": [
    {
     "ename": "ValueError",
     "evalue": "matmul: Input operand 1 has a mismatch in its core dimension 0, with gufunc signature (n?,k),(k,m?)->(n?,m?) (size 3 is different from 2)",
     "output_type": "error",
     "traceback": [
      "\u001b[0;31m---------------------------------------------------------------------------\u001b[0m",
      "\u001b[0;31mValueError\u001b[0m                                Traceback (most recent call last)",
      "\u001b[0;32m<ipython-input-23-1521b3325dc7>\u001b[0m in \u001b[0;36m<module>\u001b[0;34m()\u001b[0m\n\u001b[0;32m----> 1\u001b[0;31m \u001b[0mnp\u001b[0m\u001b[0;34m.\u001b[0m\u001b[0mtranspose\u001b[0m\u001b[0;34m(\u001b[0m\u001b[0mV2\u001b[0m\u001b[0;34m)\u001b[0m \u001b[0;34m@\u001b[0m \u001b[0mlinalg\u001b[0m\u001b[0;34m.\u001b[0m\u001b[0minv\u001b[0m\u001b[0;34m(\u001b[0m\u001b[0mnp\u001b[0m\u001b[0;34m.\u001b[0m\u001b[0mdiag\u001b[0m\u001b[0;34m(\u001b[0m\u001b[0msvalues2\u001b[0m\u001b[0;34m)\u001b[0m\u001b[0;34m)\u001b[0m \u001b[0;34m@\u001b[0m \u001b[0mnp\u001b[0m\u001b[0;34m.\u001b[0m\u001b[0mtranspose\u001b[0m\u001b[0;34m(\u001b[0m\u001b[0mU2\u001b[0m\u001b[0;34m)\u001b[0m\u001b[0;34m\u001b[0m\u001b[0m\n\u001b[0m",
      "\u001b[0;31mValueError\u001b[0m: matmul: Input operand 1 has a mismatch in its core dimension 0, with gufunc signature (n?,k),(k,m?)->(n?,m?) (size 3 is different from 2)"
     ]
    }
   ],
   "source": [
    "np.transpose(V2) @ linalg.inv(np.diag(svalues2)) @ np.transpose(U2)"
   ]
  },
  {
   "cell_type": "markdown",
   "metadata": {},
   "source": [
    "???\n",
    "It is known that _every_ matrix has a pseudoinverse. Does scipy.linalg.pinv() work? "
   ]
  },
  {
   "cell_type": "code",
   "execution_count": 24,
   "metadata": {},
   "outputs": [
    {
     "data": {
      "text/plain": [
       "array([[ 0.106972  , -0.04971432,  0.04648278],\n",
       "       [ 0.00293171,  0.12258808, -0.01356041]])"
      ]
     },
     "execution_count": 24,
     "metadata": {},
     "output_type": "execute_result"
    }
   ],
   "source": [
    "linalg.pinv(G2)"
   ]
  },
  {
   "cell_type": "markdown",
   "metadata": {},
   "source": [
    "What on earth is wrong here?\n",
    "\n",
    "Well, $G_2$ has rank $2$. So, as we could see before, we got $2$ singular values. When making a diagonal matrix out of those singular values, we don't get the correct dimension. We could complete the $3 \\times 3$ matrix, but that would be missing an opportunity. Rather, we shorten the $U_2$ and $V_2$ matrices, as follows:"
   ]
  },
  {
   "cell_type": "code",
   "execution_count": 25,
   "metadata": {},
   "outputs": [
    {
     "data": {
      "text/plain": [
       "(array([[-0.78329328,  0.5123044 , -0.35213043],\n",
       "        [-0.57850328, -0.80806186,  0.11122041],\n",
       "        [-0.22756446,  0.29082681,  0.9293192 ]]),\n",
       " array([[-0.68318295, -0.73024726],\n",
       "        [ 0.73024726, -0.68318295]]))"
      ]
     },
     "execution_count": 25,
     "metadata": {},
     "output_type": "execute_result"
    }
   ],
   "source": [
    "U2, V2"
   ]
  },
  {
   "cell_type": "markdown",
   "metadata": {},
   "source": [
    "We remind ourselves that $U_2$ is $3 \\times 3$, but $V_2$ is $2 \\times 2$. Hence, we need only modify $U_2$"
   ]
  },
  {
   "cell_type": "code",
   "execution_count": 26,
   "metadata": {},
   "outputs": [
    {
     "data": {
      "text/plain": [
       "array([[-0.78329328,  0.5123044 , -0.35213043],\n",
       "       [-0.57850328, -0.80806186,  0.11122041]])"
      ]
     },
     "execution_count": 26,
     "metadata": {},
     "output_type": "execute_result"
    }
   ],
   "source": [
    "U2[0:2,0:3]"
   ]
  },
  {
   "cell_type": "code",
   "execution_count": 27,
   "metadata": {},
   "outputs": [],
   "source": [
    "U2mod = U2[:,0:2]"
   ]
  },
  {
   "cell_type": "code",
   "execution_count": 28,
   "metadata": {},
   "outputs": [
    {
     "data": {
      "text/plain": [
       "array([[ 0.106972  , -0.04971432,  0.04648278],\n",
       "       [ 0.00293171,  0.12258808, -0.01356041]])"
      ]
     },
     "execution_count": 28,
     "metadata": {},
     "output_type": "execute_result"
    }
   ],
   "source": [
    "np.transpose(V2) @ linalg.inv(np.diag(svalues2)) @ np.transpose(U2mod)"
   ]
  },
  {
   "cell_type": "code",
   "execution_count": 29,
   "metadata": {},
   "outputs": [
    {
     "data": {
      "text/plain": [
       "array([[ 0.106972  , -0.04971432,  0.04648278],\n",
       "       [ 0.00293171,  0.12258808, -0.01356041]])"
      ]
     },
     "execution_count": 29,
     "metadata": {},
     "output_type": "execute_result"
    }
   ],
   "source": [
    "linalg.pinv(G2)"
   ]
  },
  {
   "cell_type": "markdown",
   "metadata": {},
   "source": [
    "We then name $H_i$ the pseudoinverse of $G_i$ "
   ]
  },
  {
   "cell_type": "code",
   "execution_count": 30,
   "metadata": {},
   "outputs": [],
   "source": [
    "H1 = np.transpose(V1) @ linalg.inv(np.diag(svalues1)) @ np.transpose(U1)\n",
    "H2 = np.transpose(V2) @ linalg.inv(np.diag(svalues2)) @ np.transpose(U2mod)"
   ]
  },
  {
   "cell_type": "code",
   "execution_count": null,
   "metadata": {},
   "outputs": [],
   "source": []
  },
  {
   "cell_type": "markdown",
   "metadata": {},
   "source": [
    "# Lo que queremos hacer"
   ]
  },
  {
   "cell_type": "markdown",
   "metadata": {},
   "source": [
    "Después de seguir el simple procedimiento de Stein para tener la ecuación en terminos de $\\frac{d}{dt}log(x_i)$, tenemos, para $n$ poblaciones, $n^2 + n$ parámetros. Es decir, para nosotros el vector $m \\in \\mathbb{R}^{n^2+n}$. Por otro lado, nuestro $d$ es... ¿una matriz?. \n",
    "\n",
    "Problema 1 (simple): Una serie de tiempo nos da data de la población $1 \\leq i \\leq n$ en tiempos $0 \\leq t \\leq t_{total}$. ¿Cómo hacer una regresión a partir de esa data? \n",
    "\n",
    "Posible solución: Nuestra matriz $G$, del modelo, nos debería de relacionar..."
   ]
  },
  {
   "cell_type": "code",
   "execution_count": null,
   "metadata": {},
   "outputs": [],
   "source": []
  },
  {
   "cell_type": "markdown",
   "metadata": {},
   "source": [
    "# An example in Neto (2013)"
   ]
  },
  {
   "cell_type": "markdown",
   "metadata": {},
   "source": [
    "Picture the model $K x = y$"
   ]
  },
  {
   "cell_type": "code",
   "execution_count": 29,
   "metadata": {},
   "outputs": [],
   "source": [
    "K = np.array([[1,0],[0,1/1024]])\n",
    "y = np.array([1,2**-10])"
   ]
  },
  {
   "cell_type": "code",
   "execution_count": 47,
   "metadata": {},
   "outputs": [
    {
     "data": {
      "text/plain": [
       "array([1., 1.])"
      ]
     },
     "execution_count": 47,
     "metadata": {},
     "output_type": "execute_result"
    }
   ],
   "source": [
    "x = linalg.inv(K) @ y\n",
    "x"
   ]
  },
  {
   "cell_type": "code",
   "execution_count": 52,
   "metadata": {},
   "outputs": [],
   "source": [
    "# define perturbation p2 of x\n",
    "p2 = np.array([2**-10,0])\n",
    "y2 = y + p2\n",
    "x2 = linalg.inv(K) @ y2\n",
    "# define perturbation p3 of x\n",
    "p3 = np.array([0,2**-10])\n",
    "y3 = y + p3\n",
    "x3 = linalg.inv(K) @ y3"
   ]
  },
  {
   "cell_type": "code",
   "execution_count": 53,
   "metadata": {},
   "outputs": [
    {
     "data": {
      "text/plain": [
       "(array([1.00097656, 1.        ]), array([1., 2.]))"
      ]
     },
     "execution_count": 53,
     "metadata": {},
     "output_type": "execute_result"
    }
   ],
   "source": [
    "x2, x3"
   ]
  },
  {
   "cell_type": "code",
   "execution_count": 54,
   "metadata": {},
   "outputs": [
    {
     "data": {
      "text/plain": [
       "[1.0, 1024.0]"
      ]
     },
     "execution_count": 54,
     "metadata": {},
     "output_type": "execute_result"
    }
   ],
   "source": [
    "# compute relative error\n",
    "e2 = linalg.norm(x2-x)/linalg.norm(r2) \n",
    "e3 = linalg.norm(x3-x)/linalg.norm(r3)\n",
    "[e2, e3]"
   ]
  },
  {
   "cell_type": "markdown",
   "metadata": {},
   "source": [
    "Small perturbations in the data can lead to significant input errors. Regularizations are methods that intend to reduce this effect."
   ]
  },
  {
   "cell_type": "code",
   "execution_count": 65,
   "metadata": {},
   "outputs": [
    {
     "data": {
      "text/plain": [
       "(array([0.99804688, 0.88737297, 0.47384885, 0.04892095, 0.45595231,\n",
       "        0.7085817 , 0.84913027, 0.92323408, 0.96127904, 0.        ]),\n",
       " array([1022.        ,  908.66992188,  485.22122002,   50.0950529 ,\n",
       "         466.89516886,  725.58766032,  869.50939975,  945.39170123,\n",
       "         984.34973769,    0.        ]))"
      ]
     },
     "execution_count": 65,
     "metadata": {},
     "output_type": "execute_result"
    },
    {
     "data": {
      "image/png": "[encoded data removed]",
      "text/plain": [
       "<Figure size 432x288 with 1 Axes>"
      ]
     },
     "metadata": {},
     "output_type": "display_data"
    }
   ],
   "source": [
    "# total error vector\n",
    "rvalues = np.zeros(10)\n",
    "# relative error vector\n",
    "evalues = np.zeros(10)\n",
    "for i in range(9):\n",
    "    a = 2**-(1+i)\n",
    "    Ka = np.array([[1,0],[0,(1-a)**-10 * 2**-10]])\n",
    "    xprime = linalg.inv(Ka) @ y3\n",
    "    r = (linalg.norm(xprime-x))\n",
    "    rvalues[i] = r\n",
    "    evalues[i] = r/linalg.norm(p3)\n",
    "plt.scatter(1+np.arange(10),evalues)\n",
    "rvalues, evalues"
   ]
  },
  {
   "cell_type": "code",
   "execution_count": null,
   "metadata": {},
   "outputs": [],
   "source": []
  },
  {
   "cell_type": "code",
   "execution_count": null,
   "metadata": {},
   "outputs": [],
   "source": []
  }
 ],
 "metadata": {
  "kernelspec": {
   "display_name": "Python 3",
   "language": "python",
   "name": "python3"
  },
  "language_info": {
   "codemirror_mode": {
    "name": "ipython",
    "version": 3
   },
   "file_extension": ".py",
   "mimetype": "text/x-python",
   "name": "python",
   "nbconvert_exporter": "python",
   "pygments_lexer": "ipython3",
   "version": "3.6.5"
  }
 },
 "nbformat": 4,
 "nbformat_minor": 2
}
