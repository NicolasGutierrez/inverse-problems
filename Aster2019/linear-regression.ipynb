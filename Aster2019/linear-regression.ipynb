{
 "cells": [
  {
   "cell_type": "markdown",
   "metadata": {},
   "source": [
    "# Aster - Chapter 2: Linear Regression"
   ]
  },
  {
   "cell_type": "markdown",
   "metadata": {},
   "source": [
    "## Example 2.1"
   ]
  },
  {
   "cell_type": "markdown",
   "metadata": {},
   "source": [
    "Let sdf"
   ]
  },
  {
   "cell_type": "code",
   "execution_count": 56,
   "metadata": {},
   "outputs": [
    {
     "name": "stdout",
     "output_type": "stream",
     "text": [
      "[[ 88.53333333 -33.6         -5.33333333]\n",
      " [-33.6         15.44242424   2.66666667]\n",
      " [ -5.33333333   2.66666667   0.48484848]]\n",
      "[ 1.89144902+0.0685004j  -0.35902993+0.35734723j -0.02928019+0.0432601j ]\n"
     ]
    },
    {
     "data": {
      "image/png": "[encoded data removed]",
      "text/plain": [
       "<Figure size 432x288 with 1 Axes>"
      ]
     },
     "metadata": {},
     "output_type": "display_data"
    }
   ],
   "source": [
    "import numpy as np\n",
    "import scipy.integrate as integrate\n",
    "import scipy.linalg as linalg\n",
    "import matplotlib.pyplot as plt\n",
    "\n",
    "true_params = (10,100,9.8)\n",
    "tf = 10\n",
    "sigma = 8\n",
    "data = []\n",
    "t_points = [i+1 for i in range(tf)]\n",
    "\n",
    "def equation(params, t):\n",
    "    return params[0] + params[1]*t - 0.5*params[2]*t**2\n",
    "\n",
    "def findCovMatrix(matrix, sigma):\n",
    "    return (sigma**2)*np.linalg.inv( np.matmul( np.transpose(matrix), matrix) ) \n",
    "\n",
    "def findError(covmatrix):\n",
    "    return 1.96*linalg.sqrtm(np.linalg.eig(covmatrix)[1])[0]\n",
    "#########################\n",
    "#### Data generation ####\n",
    "#########################\n",
    "    \n",
    "for i in range(tf):\n",
    "    data.append( equation(true_params, i+1) )\n",
    "    data[i] += np.random.normal(0,sigma)\n",
    "\n",
    "# Plot of generated data\n",
    "plt.scatter(t_points,data)\n",
    "\n",
    "##################\n",
    "#### Solution ####\n",
    "##################\n",
    "\n",
    "G = np.zeros([tf, len(true_params)])\n",
    "\n",
    "for i in range(tf):\n",
    "    G[i] = [1, i+1, -0.5*(i+1)**2] \n",
    "\n",
    "params = np.dot( np.matmul( np.linalg.inv( np.matmul(np.transpose(G), G) ), np.transpose(G) ), data)\n",
    "regression = []\n",
    "for i in range(tf):\n",
    "    regression.append(equation(params, i+1))\n",
    "plt.plot(t_points, regression)\n",
    "\n",
    "covmatrix = findCovMatrix(G, sigma)\n",
    "error = findError(covmatrix)\n",
    "\n",
    "print(covmatrix)\n",
    "print(error)"
   ]
  },
  {
   "cell_type": "markdown",
   "metadata": {},
   "source": [
    "## Example 2.2"
   ]
  },
  {
   "cell_type": "code",
   "execution_count": null,
   "metadata": {},
   "outputs": [],
   "source": []
  },
  {
   "cell_type": "markdown",
   "metadata": {},
   "source": [
    "# Trial space"
   ]
  },
  {
   "cell_type": "code",
   "execution_count": 56,
   "metadata": {},
   "outputs": [
    {
     "data": {
      "text/plain": [
       "array([[0., 0.],\n",
       "       [0., 0.],\n",
       "       [0., 0.],\n",
       "       [0., 0.],\n",
       "       [0., 0.]])"
      ]
     },
     "execution_count": 56,
     "metadata": {},
     "output_type": "execute_result"
    }
   ],
   "source": [
    "np.zeros([5,2])"
   ]
  },
  {
   "cell_type": "code",
   "execution_count": 41,
   "metadata": {},
   "outputs": [
    {
     "data": {
      "text/plain": [
       "array([1, 3, 5])"
      ]
     },
     "execution_count": 41,
     "metadata": {},
     "output_type": "execute_result"
    }
   ],
   "source": [
    "a[:,0]"
   ]
  },
  {
   "cell_type": "code",
   "execution_count": null,
   "metadata": {},
   "outputs": [],
   "source": []
  }
 ],
 "metadata": {
  "kernelspec": {
   "display_name": "Python 3",
   "language": "python",
   "name": "python3"
  },
  "language_info": {
   "codemirror_mode": {
    "name": "ipython",
    "version": 3
   },
   "file_extension": ".py",
   "mimetype": "text/x-python",
   "name": "python",
   "nbconvert_exporter": "python",
   "pygments_lexer": "ipython3",
   "version": "3.6.5"
  }
 },
 "nbformat": 4,
 "nbformat_minor": 2
}
