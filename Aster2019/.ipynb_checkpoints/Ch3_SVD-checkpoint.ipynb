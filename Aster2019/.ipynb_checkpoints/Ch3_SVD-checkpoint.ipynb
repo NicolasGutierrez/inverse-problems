{
 "cells": [
  {
   "cell_type": "markdown",
   "metadata": {},
   "source": [
    "# Chapter 3: Singular Value Decomposition (SVD)"
   ]
  },
  {
   "cell_type": "markdown",
   "metadata": {},
   "source": [
    "The singular value decomposition of a linear operator is useful in exploring the characteristics of rank deficient and ill-conditioned linear systems of equations.\n",
    "\n",
    "## The SVD and the Generalized Inverse\n",
    "Suppose $G$ is a linear operator from the model space $M \\subset \\mathbb{R}^p$ to the data space $D \\subset \\mathbb{R}^m$. Let $m \\in M$ and $d \\in D$ denote the vector of model parameters and the data vector, respectively. Then the forward problem can be expressed using a linear system of equations, $G m = d$.\n",
    "\n",
    "We define $G^\\dagger$, the Moore-Penrose pseudoinverse of $G$, to be the matrix such that, if the singular value decomposition of $G$ is $G = U S V^T$, then $G^\\dagger = V S^{-1} U^T d$. The pseudoinverse solution is then defined to be $m_\\dagger = G^\\dagger d$.\n",
    "\n",
    "### Example: Ballistic trajectory\n",
    "\n",
    "Let's consider example 1.1 (p. 12 in Aster, 2019). The objective is the characterization of a ballistic trajectory, so let $y$ denote the altitude observations of a ballistic body at times $t_i$ for $1 \\leq i \\leq 3$.\n",
    "\n",
    "The mathematical model is known, and it's given by:\n",
    "\n",
    "$$ d (t) = m_1 + m_2 t - \\frac{1}{2} m_3 t^2$$"
   ]
  },
  {
   "cell_type": "code",
   "execution_count": 26,
   "metadata": {},
   "outputs": [
    {
     "data": {
      "text/plain": [
       "[<matplotlib.lines.Line2D at 0x7f5c8d8cdad0>]"
      ]
     },
     "execution_count": 26,
     "metadata": {},
     "output_type": "execute_result"
    },
    {
     "data": {
      "image/png": "[encoded data removed]",
      "text/plain": [
       "<Figure size 432x288 with 1 Axes>"
      ]
     },
     "metadata": {
      "needs_background": "light"
     },
     "output_type": "display_data"
    }
   ],
   "source": [
    "import numpy as np\n",
    "import matplotlib.pyplot as plt\n",
    "from scipy import linalg\n",
    "\n",
    "p1 = 2; p2 = 7; p3 = 3 \n",
    "params = np.array([p1, p2, p3])\n",
    "n_params = len(params)\n",
    "times = np.array([.5,2,5,7])\n",
    "n_times = len(times)\n",
    "d = np.zeros(n_times)\n",
    "\n",
    "plt.plot(times, d, 'o')"
   ]
  },
  {
   "cell_type": "code",
   "execution_count": 29,
   "metadata": {},
   "outputs": [],
   "source": [
    "G = np.zeros((n_times, n_params))\n",
    "G[:,0] = np.ones(n_times)\n",
    "for i in range(n_times):\n",
    "    d[i] = p1 + p2*times[i] - 0.5*p3*times[i]**2\n",
    "    G[i,1] = times[i]\n",
    "    G[i,2] = -0.5*times[i]\n",
    "    \n",
    "U, svalues, Vt = linalg.svd(G)"
   ]
  },
  {
   "cell_type": "markdown",
   "metadata": {},
   "source": [
    "## En Lotka-Volterra\n",
    "\n",
    "Después de seguir el simple procedimiento de Stein para tener la ecuación en terminos de $\\frac{d}{dt} \\log x_i(t)$, tenemos, para $n$ poblaciones, $n^2 + n$ parámetros. Es decir, para nosotros el vector $m \\in \\mathbb{R}^{n^2+n}$. Por otro lado, nuestro $d$ es... ¿una matriz?. \n",
    "\n",
    "Problema 1 (simple): Una serie de tiempo nos da data de la población $1 \\leq i \\leq n$ en tiempos $0 \\leq t \\leq t_{total}$. ¿Cómo hacer una regresión a partir de esa data? \n",
    "\n",
    "Posible solución: Nuestra matriz $G$, del modelo, nos debería de relacionar..."
   ]
  }
 ],
 "metadata": {
  "kernelspec": {
   "display_name": "Python 3",
   "language": "python",
   "name": "python3"
  },
  "language_info": {
   "codemirror_mode": {
    "name": "ipython",
    "version": 3
   },
   "file_extension": ".py",
   "mimetype": "text/x-python",
   "name": "python",
   "nbconvert_exporter": "python",
   "pygments_lexer": "ipython3",
   "version": "3.7.6"
  }
 },
 "nbformat": 4,
 "nbformat_minor": 4
}
